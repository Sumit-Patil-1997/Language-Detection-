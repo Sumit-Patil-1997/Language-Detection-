{
 "cells": [
  {
   "cell_type": "markdown",
   "id": "0f9696d3",
   "metadata": {},
   "source": [
    "# <span style=\"background-color: #EB824F; padding: 10px\"><strong>        Language Detection     </strong></span>"
   ]
  },
  {
   "cell_type": "markdown",
   "id": "1d31323a",
   "metadata": {},
   "source": [
    "# import Libraries"
   ]
  },
  {
   "cell_type": "code",
   "execution_count": 1,
   "id": "c6667555",
   "metadata": {},
   "outputs": [],
   "source": [
    "import pandas as pd\n",
    "import numpy as np\n",
    "import seaborn as sns\n",
    "import matplotlib.pyplot as plt\n",
    "from sklearn.feature_extraction.text import CountVectorizer\n",
    "from sklearn.model_selection import train_test_split\n",
    "from sklearn.naive_bayes import MultinomialNB"
   ]
  },
  {
   "cell_type": "markdown",
   "id": "9f602cbf",
   "metadata": {},
   "source": [
    "# <span style=\"background-color: #FFFFFF; padding: 10px\"><strong>**LOADING DATASET**</strong></span>"
   ]
  },
  {
   "cell_type": "code",
   "execution_count": 2,
   "id": "856716e5",
   "metadata": {},
   "outputs": [
    {
     "data": {
      "text/html": [
       "<div>\n",
       "<style scoped>\n",
       "    .dataframe tbody tr th:only-of-type {\n",
       "        vertical-align: middle;\n",
       "    }\n",
       "\n",
       "    .dataframe tbody tr th {\n",
       "        vertical-align: top;\n",
       "    }\n",
       "\n",
       "    .dataframe thead th {\n",
       "        text-align: right;\n",
       "    }\n",
       "</style>\n",
       "<table border=\"1\" class=\"dataframe\">\n",
       "  <thead>\n",
       "    <tr style=\"text-align: right;\">\n",
       "      <th></th>\n",
       "      <th>Text</th>\n",
       "      <th>language</th>\n",
       "    </tr>\n",
       "  </thead>\n",
       "  <tbody>\n",
       "    <tr>\n",
       "      <th>0</th>\n",
       "      <td>klement gottwaldi surnukeha palsameeriti ning ...</td>\n",
       "      <td>Estonian</td>\n",
       "    </tr>\n",
       "    <tr>\n",
       "      <th>1</th>\n",
       "      <td>sebes joseph pereira thomas  på eng the jesuit...</td>\n",
       "      <td>Swedish</td>\n",
       "    </tr>\n",
       "    <tr>\n",
       "      <th>2</th>\n",
       "      <td>ถนนเจริญกรุง อักษรโรมัน thanon charoen krung เ...</td>\n",
       "      <td>Thai</td>\n",
       "    </tr>\n",
       "    <tr>\n",
       "      <th>3</th>\n",
       "      <td>விசாகப்பட்டினம் தமிழ்ச்சங்கத்தை இந்துப் பத்திர...</td>\n",
       "      <td>Tamil</td>\n",
       "    </tr>\n",
       "    <tr>\n",
       "      <th>4</th>\n",
       "      <td>de spons behoort tot het geslacht haliclona en...</td>\n",
       "      <td>Dutch</td>\n",
       "    </tr>\n",
       "    <tr>\n",
       "      <th>...</th>\n",
       "      <td>...</td>\n",
       "      <td>...</td>\n",
       "    </tr>\n",
       "    <tr>\n",
       "      <th>21995</th>\n",
       "      <td>hors du terrain les années  et  sont des année...</td>\n",
       "      <td>French</td>\n",
       "    </tr>\n",
       "    <tr>\n",
       "      <th>21996</th>\n",
       "      <td>ใน พศ  หลักจากที่เสด็จประพาสแหลมมลายู ชวา อินเ...</td>\n",
       "      <td>Thai</td>\n",
       "    </tr>\n",
       "    <tr>\n",
       "      <th>21997</th>\n",
       "      <td>con motivo de la celebración del septuagésimoq...</td>\n",
       "      <td>Spanish</td>\n",
       "    </tr>\n",
       "    <tr>\n",
       "      <th>21998</th>\n",
       "      <td>年月，當時還只有歲的她在美國出道，以mai-k名義推出首張英文《baby i like》，由...</td>\n",
       "      <td>Chinese</td>\n",
       "    </tr>\n",
       "    <tr>\n",
       "      <th>21999</th>\n",
       "      <td>aprilie sonda spațială messenger a nasa și-a ...</td>\n",
       "      <td>Romanian</td>\n",
       "    </tr>\n",
       "  </tbody>\n",
       "</table>\n",
       "<p>22000 rows × 2 columns</p>\n",
       "</div>"
      ],
      "text/plain": [
       "                                                    Text  language\n",
       "0      klement gottwaldi surnukeha palsameeriti ning ...  Estonian\n",
       "1      sebes joseph pereira thomas  på eng the jesuit...   Swedish\n",
       "2      ถนนเจริญกรุง อักษรโรมัน thanon charoen krung เ...      Thai\n",
       "3      விசாகப்பட்டினம் தமிழ்ச்சங்கத்தை இந்துப் பத்திர...     Tamil\n",
       "4      de spons behoort tot het geslacht haliclona en...     Dutch\n",
       "...                                                  ...       ...\n",
       "21995  hors du terrain les années  et  sont des année...    French\n",
       "21996  ใน พศ  หลักจากที่เสด็จประพาสแหลมมลายู ชวา อินเ...      Thai\n",
       "21997  con motivo de la celebración del septuagésimoq...   Spanish\n",
       "21998  年月，當時還只有歲的她在美國出道，以mai-k名義推出首張英文《baby i like》，由...   Chinese\n",
       "21999   aprilie sonda spațială messenger a nasa și-a ...  Romanian\n",
       "\n",
       "[22000 rows x 2 columns]"
      ]
     },
     "execution_count": 2,
     "metadata": {},
     "output_type": "execute_result"
    }
   ],
   "source": [
    "data = pd.read_csv('dataset.csv')\n",
    "data"
   ]
  },
  {
   "cell_type": "markdown",
   "id": "f9514786",
   "metadata": {},
   "source": [
    "# 1. Information about dataset"
   ]
  },
  {
   "cell_type": "code",
   "execution_count": 3,
   "id": "ed2d8781",
   "metadata": {},
   "outputs": [
    {
     "name": "stdout",
     "output_type": "stream",
     "text": [
      "<class 'pandas.core.frame.DataFrame'>\n",
      "RangeIndex: 22000 entries, 0 to 21999\n",
      "Data columns (total 2 columns):\n",
      " #   Column    Non-Null Count  Dtype \n",
      "---  ------    --------------  ----- \n",
      " 0   Text      22000 non-null  object\n",
      " 1   language  22000 non-null  object\n",
      "dtypes: object(2)\n",
      "memory usage: 343.9+ KB\n"
     ]
    }
   ],
   "source": [
    "data.info()"
   ]
  },
  {
   "cell_type": "markdown",
   "id": "4c5fac41",
   "metadata": {},
   "source": [
    "#  **Observations:**\n",
    "    \n",
    "1. Dataset contains 22000 rows and 2 columns.\n",
    "2. There are 2 columns which are is object datatype."
   ]
  },
  {
   "cell_type": "markdown",
   "id": "e8afff13",
   "metadata": {},
   "source": [
    "#  2. check null values"
   ]
  },
  {
   "cell_type": "code",
   "execution_count": 4,
   "id": "07d064e8",
   "metadata": {},
   "outputs": [
    {
     "data": {
      "text/html": [
       "<div>\n",
       "<style scoped>\n",
       "    .dataframe tbody tr th:only-of-type {\n",
       "        vertical-align: middle;\n",
       "    }\n",
       "\n",
       "    .dataframe tbody tr th {\n",
       "        vertical-align: top;\n",
       "    }\n",
       "\n",
       "    .dataframe thead th {\n",
       "        text-align: right;\n",
       "    }\n",
       "</style>\n",
       "<table border=\"1\" class=\"dataframe\">\n",
       "  <thead>\n",
       "    <tr style=\"text-align: right;\">\n",
       "      <th></th>\n",
       "      <th>No.of null values</th>\n",
       "    </tr>\n",
       "  </thead>\n",
       "  <tbody>\n",
       "    <tr>\n",
       "      <th>Text</th>\n",
       "      <td>0</td>\n",
       "    </tr>\n",
       "    <tr>\n",
       "      <th>language</th>\n",
       "      <td>0</td>\n",
       "    </tr>\n",
       "  </tbody>\n",
       "</table>\n",
       "</div>"
      ],
      "text/plain": [
       "          No.of null values\n",
       "Text                      0\n",
       "language                  0"
      ]
     },
     "execution_count": 4,
     "metadata": {},
     "output_type": "execute_result"
    }
   ],
   "source": [
    "#first check null values\n",
    "data.isnull().sum().to_frame().rename(columns={0:'No.of null values'})"
   ]
  },
  {
   "cell_type": "markdown",
   "id": "4049c7c1",
   "metadata": {},
   "source": [
    "# 3. count total languages in data"
   ]
  },
  {
   "cell_type": "code",
   "execution_count": 5,
   "id": "324d2ff8",
   "metadata": {},
   "outputs": [
    {
     "data": {
      "text/plain": [
       "Estonian      1000\n",
       "Swedish       1000\n",
       "English       1000\n",
       "Russian       1000\n",
       "Romanian      1000\n",
       "Persian       1000\n",
       "Pushto        1000\n",
       "Spanish       1000\n",
       "Hindi         1000\n",
       "Korean        1000\n",
       "Chinese       1000\n",
       "French        1000\n",
       "Portugese     1000\n",
       "Indonesian    1000\n",
       "Urdu          1000\n",
       "Latin         1000\n",
       "Turkish       1000\n",
       "Japanese      1000\n",
       "Dutch         1000\n",
       "Tamil         1000\n",
       "Thai          1000\n",
       "Arabic        1000\n",
       "Name: language, dtype: int64"
      ]
     },
     "execution_count": 5,
     "metadata": {},
     "output_type": "execute_result"
    }
   ],
   "source": [
    "data[\"language\"].value_counts()"
   ]
  },
  {
   "cell_type": "markdown",
   "id": "9dc3e404",
   "metadata": {},
   "source": [
    "#  **Observations:**\n",
    "1. Total 22 Languages in dataset.\n",
    "2. Each language have 1000 text."
   ]
  },
  {
   "cell_type": "markdown",
   "id": "f7865050",
   "metadata": {},
   "source": [
    "# 4. To check languages Text"
   ]
  },
  {
   "cell_type": "code",
   "execution_count": 6,
   "id": "7c9e9e4d",
   "metadata": {},
   "outputs": [
    {
     "data": {
      "text/plain": [
       "0        klement gottwaldi surnukeha palsameeriti ning ...\n",
       "1        sebes joseph pereira thomas  på eng the jesuit...\n",
       "2        ถนนเจริญกรุง อักษรโรมัน thanon charoen krung เ...\n",
       "3        விசாகப்பட்டினம் தமிழ்ச்சங்கத்தை இந்துப் பத்திர...\n",
       "4        de spons behoort tot het geslacht haliclona en...\n",
       "                               ...                        \n",
       "21995    hors du terrain les années  et  sont des année...\n",
       "21996    ใน พศ  หลักจากที่เสด็จประพาสแหลมมลายู ชวา อินเ...\n",
       "21997    con motivo de la celebración del septuagésimoq...\n",
       "21998    年月，當時還只有歲的她在美國出道，以mai-k名義推出首張英文《baby i like》，由...\n",
       "21999     aprilie sonda spațială messenger a nasa și-a ...\n",
       "Name: Text, Length: 22000, dtype: object"
      ]
     },
     "execution_count": 6,
     "metadata": {},
     "output_type": "execute_result"
    }
   ],
   "source": [
    "data[\"Text\"]"
   ]
  },
  {
   "cell_type": "markdown",
   "id": "21925b0d",
   "metadata": {},
   "source": [
    "# <span style=\"background-color: #EB824F; padding: 10px\"><strong>**Separating Indepenent (x) and Dependent Variable (y)**</strong></span>"
   ]
  },
  {
   "cell_type": "code",
   "execution_count": 7,
   "id": "e52eb2fd",
   "metadata": {},
   "outputs": [],
   "source": [
    "#to separate input and output variable\n",
    "x = np.array(data[\"Text\"])\n",
    "y = np.array(data[\"language\"])"
   ]
  },
  {
   "cell_type": "markdown",
   "id": "5a77eb13",
   "metadata": {},
   "source": [
    "# <span style=\"background-color: #EB824F; padding: 10px\"><strong>**Splitting Data for Model Training and testing:**</strong></span>"
   ]
  },
  {
   "cell_type": "code",
   "execution_count": 8,
   "id": "40f483ce",
   "metadata": {},
   "outputs": [],
   "source": [
    "#CountVectorizer is a great tool provided by the scikit-learn library in Python. \n",
    "#It is used to transform a given text into a vector on the basis of the frequency (count) \n",
    "#of each word that occurs in the entire text. \n",
    "#This is helpful when we have multiple such texts, and \n",
    "#we wish to convert each word in each text into vectors (for using in further text analysis).\n",
    "cv = CountVectorizer()\n",
    "X = cv.fit_transform(x)\n",
    "X_train, X_test, y_train, y_test = train_test_split(X, y,test_size=0.33,random_state=42)"
   ]
  },
  {
   "cell_type": "markdown",
   "id": "9dd738c6",
   "metadata": {},
   "source": [
    "# <span style=\"background-color: #EB824F; padding: 10px\"><strong>**MODEL BUILDING:**</strong></span>"
   ]
  },
  {
   "cell_type": "markdown",
   "id": "52f38c71",
   "metadata": {},
   "source": [
    "# 1. Multinomial Naïve Bayes algorithm "
   ]
  },
  {
   "cell_type": "code",
   "execution_count": 9,
   "id": "ce717320",
   "metadata": {},
   "outputs": [
    {
     "name": "stdout",
     "output_type": "stream",
     "text": [
      "              precision    recall  f1-score   support\n",
      "\n",
      "      Arabic       1.00      1.00      1.00       341\n",
      "     Chinese       0.93      0.50      0.65       317\n",
      "       Dutch       0.99      0.99      0.99       346\n",
      "     English       0.70      1.00      0.82       333\n",
      "    Estonian       0.99      0.96      0.97       338\n",
      "      French       0.95      0.99      0.97       324\n",
      "       Hindi       1.00      0.98      0.99       341\n",
      "  Indonesian       0.99      0.97      0.98       318\n",
      "    Japanese       0.69      0.87      0.77       328\n",
      "      Korean       1.00      0.98      0.99       325\n",
      "       Latin       0.99      0.91      0.95       346\n",
      "     Persian       1.00      1.00      1.00       323\n",
      "   Portugese       1.00      0.96      0.98       318\n",
      "      Pushto       1.00      0.97      0.98       328\n",
      "    Romanian       0.99      0.98      0.99       324\n",
      "     Russian       0.99      0.99      0.99       332\n",
      "     Spanish       0.97      0.99      0.98       322\n",
      "     Swedish       0.99      1.00      0.99       317\n",
      "       Tamil       1.00      0.98      0.99       330\n",
      "        Thai       1.00      0.98      0.99       335\n",
      "     Turkish       0.99      0.98      0.98       327\n",
      "        Urdu       1.00      0.98      0.99       347\n",
      "\n",
      "    accuracy                           0.95      7260\n",
      "   macro avg       0.96      0.95      0.95      7260\n",
      "weighted avg       0.96      0.95      0.95      7260\n",
      "\n",
      "[[340   0   0   1   0   0   0   0   0   0   0   0   0   0   0   0   0   0\n",
      "    0   0   0   0]\n",
      " [  0 159   0  25   0   2   0   0 119   0   1   0   0   0   3   0   3   2\n",
      "    0   0   3   0]\n",
      " [  0   0 342   1   0   3   0   0   0   0   0   0   0   0   0   0   0   0\n",
      "    0   0   0   0]\n",
      " [  0   0   0 333   0   0   0   0   0   0   0   0   0   0   0   0   0   0\n",
      "    0   0   0   0]\n",
      " [  0   0   1   8 325   1   0   1   0   0   0   0   0   0   0   2   0   0\n",
      "    0   0   0   0]\n",
      " [  0   0   0   3   0 320   0   0   0   0   0   0   0   0   0   0   1   0\n",
      "    0   0   0   0]\n",
      " [  0   0   0   7   0   0 334   0   0   0   0   0   0   0   0   0   0   0\n",
      "    0   0   0   0]\n",
      " [  0   0   0  10   0   0   0 308   0   0   0   0   0   0   0   0   0   0\n",
      "    0   0   0   0]\n",
      " [  0  12   2  12   3   4   1   1 284   0   1   0   0   0   1   1   3   2\n",
      "    0   0   1   0]\n",
      " [  0   0   0   2   0   0   0   0   6 317   0   0   0   0   0   0   0   0\n",
      "    0   0   0   0]\n",
      " [  0   0   1  22   0   5   0   1   1   0 314   0   0   0   0   0   2   0\n",
      "    0   0   0   0]\n",
      " [  0   0   0   1   0   0   0   0   0   0   0 322   0   0   0   0   0   0\n",
      "    0   0   0   0]\n",
      " [  0   0   1  11   1   0   0   0   0   0   1   0 304   0   0   0   0   0\n",
      "    0   0   0   0]\n",
      " [  0   0   0   9   0   0   0   0   0   0   0   0   0 318   0   1   0   0\n",
      "    0   0   0   0]\n",
      " [  0   0   0   4   0   1   0   0   0   0   0   0   0   0 319   0   0   0\n",
      "    0   0   0   0]\n",
      " [  0   0   0   3   0   0   0   0   0   0   0   0   0   0   0 329   0   0\n",
      "    0   0   0   0]\n",
      " [  0   0   0   2   0   0   0   0   0   0   0   0   0   0   0   0 320   0\n",
      "    0   0   0   0]\n",
      " [  0   0   0   0   0   0   0   0   0   0   0   0   0   0   0   0   0 317\n",
      "    0   0   0   0]\n",
      " [  0   0   0   4   0   1   0   0   0   0   0   0   0   0   0   0   0   0\n",
      "  325   0   0   0]\n",
      " [  0   0   0   6   0   1   0   0   0   0   0   0   0   0   0   0   0   0\n",
      "    0 328   0   0]\n",
      " [  0   0   0   6   0   0   0   0   0   0   0   0   0   0   0   0   0   0\n",
      "    0   0 321   0]\n",
      " [  0   0   0   5   0   0   0   0   0   0   0   0   0   0   0   0   1   0\n",
      "    0   0   0 341]]\n"
     ]
    },
    {
     "data": {
      "text/plain": [
       "0.953168044077135"
      ]
     },
     "execution_count": 9,
     "metadata": {},
     "output_type": "execute_result"
    }
   ],
   "source": [
    "#multiclass classification, so I will be using the Multinomial Naïve Bayes algorithm \n",
    "#to train the language detection model as this algorithm always performs very well on the problems\n",
    "#based on multiclass classification:\n",
    "model = MultinomialNB()\n",
    "model.fit(X_train,y_train)\n",
    "Y_pred=model.predict(X_test)\n",
    "\n",
    "from sklearn.metrics import classification_report,confusion_matrix,accuracy_score\n",
    "\n",
    "print(classification_report(y_test,Y_pred))\n",
    "#confusion matrix\n",
    "print(confusion_matrix(y_test,Y_pred))\n",
    "model.score(X_test,y_test)"
   ]
  },
  {
   "cell_type": "markdown",
   "id": "453d4b41",
   "metadata": {},
   "source": [
    "# Multinomial Naïve Bayes algorithm  is our final model as its accuracy is good which is 95% Accuracy Score"
   ]
  },
  {
   "cell_type": "markdown",
   "id": "60a41b91",
   "metadata": {},
   "source": [
    "# check the model using user input text"
   ]
  },
  {
   "cell_type": "code",
   "execution_count": 10,
   "id": "17d381ef",
   "metadata": {},
   "outputs": [
    {
     "name": "stdout",
     "output_type": "stream",
     "text": [
      "Enter a Text: sertyghgvh\n",
      "['Chinese']\n"
     ]
    }
   ],
   "source": [
    "user = input(\"Enter a Text: \")\n",
    "data = cv.transform([user]).toarray()\n",
    "output = model.predict(data)\n",
    "print(output)"
   ]
  },
  {
   "cell_type": "markdown",
   "id": "67def5e6",
   "metadata": {},
   "source": [
    "# Deployment of model using Tkinter windows based application Library of python"
   ]
  },
  {
   "cell_type": "code",
   "execution_count": 11,
   "id": "76345968",
   "metadata": {},
   "outputs": [],
   "source": [
    "# Create the main window\n",
    "import tkinter as tk\n",
    "\n",
    "\n",
    "def language():\n",
    "    data=(entry_data.get())\n",
    "     #To change list in numpy array (2D)\n",
    "    import numpy as np\n",
    "    data=np.array([data]) #[[]] means 2D\n",
    "    #Apply StandardScaler n input exp\n",
    "    X=cv.transform(data)\n",
    "    \n",
    "    try:\n",
    "        prediction = model.predict(X)[0]\n",
    "        result_label.config(font =(\"Courier\", 14),text=f\"Detected Language is {prediction}\")\n",
    "    except Exception as e:\n",
    "        result_label.config(text=\"Error: \" + str(e))\n",
    "\n",
    "\n",
    "\n",
    "\n",
    "def reset_fields():\n",
    "    entry_data.delete(0, tk.END)\n",
    "\n",
    "    \n",
    "    \n",
    "root = tk.Tk()\n",
    "root.geometry(\"600x500\")\n",
    "root.title(\"Language Detection\")\n",
    "\n",
    "\n",
    "\n",
    "\n",
    "# Create labels and entry widgets for user input\n",
    "label_data = tk.Label(root, text=\"Enter a Text \",width=500)\n",
    "label_data.config(font =(\"Courier\", 14))\n",
    "label_data.pack(pady=20)\n",
    "\n",
    "entry_data = tk.Entry(root,width=60)\n",
    "entry_data.pack(pady=10)\n",
    "\n",
    "\n",
    "# Create a button to trigger the prediction\n",
    "predict_button = tk.Button(root, text=\"Detect Language \",bg=\"yellow\", command=language,width=20, height=2)\n",
    "predict_button.pack(pady=20)\n",
    "\n",
    "\n",
    "# Create a button to reset the fields\n",
    "reset_button = tk.Button(root, text=\"Reset\", bg=\"red\",command=reset_fields,width=10, height=1)\n",
    "reset_button.pack(pady=10)\n",
    "\n",
    "# Create a label to display the prediction result\n",
    "result_label = tk.Label(root, text=\"\")\n",
    "result_label.pack(pady=30)\n",
    "\n",
    "\n",
    "\n",
    "root.mainloop()"
   ]
  },
  {
   "cell_type": "code",
   "execution_count": null,
   "id": "7603941f",
   "metadata": {},
   "outputs": [],
   "source": []
  },
  {
   "cell_type": "code",
   "execution_count": null,
   "id": "ae29dfad",
   "metadata": {},
   "outputs": [],
   "source": []
  }
 ],
 "metadata": {
  "kernelspec": {
   "display_name": "Python 3 (ipykernel)",
   "language": "python",
   "name": "python3"
  },
  "language_info": {
   "codemirror_mode": {
    "name": "ipython",
    "version": 3
   },
   "file_extension": ".py",
   "mimetype": "text/x-python",
   "name": "python",
   "nbconvert_exporter": "python",
   "pygments_lexer": "ipython3",
   "version": "3.9.13"
  }
 },
 "nbformat": 4,
 "nbformat_minor": 5
}
